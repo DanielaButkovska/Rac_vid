{
 "cells": [
  {
   "attachments": {},
   "cell_type": "markdown",
   "metadata": {},
   "source": [
    "# IMPORTS"
   ]
  },
  {
   "cell_type": "code",
   "execution_count": 238,
   "metadata": {},
   "outputs": [],
   "source": [
    "import cv2\n",
    "import numpy as np"
   ]
  },
  {
   "attachments": {},
   "cell_type": "markdown",
   "metadata": {},
   "source": [
    "# ROBERTS"
   ]
  },
  {
   "cell_type": "code",
   "execution_count": 239,
   "metadata": {},
   "outputs": [],
   "source": [
    "def my_roberts(slika):\n",
    "    # Definiranje Roberts jedra\n",
    "    roberts_x = np.array([[1, 0], [0, -1]], dtype=np.float32)\n",
    "    roberts_y = np.array([[0, 1], [-1, 0]], dtype=np.float32)\n",
    "    \n",
    "    # Uporabitev Roberts jedra na sliki\n",
    "    img_x = cv2.filter2D(slika, -1, roberts_x, borderType=cv2.BORDER_REPLICATE)\n",
    "    img_y = cv2.filter2D(slika, -1, roberts_y, borderType=cv2.BORDER_REPLICATE)\n",
    "    \n",
    "    # Izračun magnitude gradientov z uporabo L1 norme (absolutnih vrednosti)\n",
    "    slika_robov = cv2.addWeighted(np.abs(img_x), 0.5, np.abs(img_y), 0.5, 0).astype(np.uint8)\n",
    "    \n",
    "    # Povečanje kontrasta robov\n",
    "    slika_robov = spremeni_kontrast(slika_robov, 10, 10)\n",
    "    \n",
    "    return slika_robov"
   ]
  },
  {
   "attachments": {},
   "cell_type": "markdown",
   "metadata": {},
   "source": [
    "# PREWITT"
   ]
  },
  {
   "cell_type": "code",
   "execution_count": 240,
   "metadata": {},
   "outputs": [],
   "source": [
    "def my_prewitt(slika):\n",
    "    # Definiranje Prewitt jedra\n",
    "    x = np.array([[-1, 0, 1], [-1, 0, 1], [-1, 0, 1]], dtype=np.float32)\n",
    "    y = np.array([[-1, -1, -1], [0, 0, 0], [1, 1, 1]], dtype=np.float32)\n",
    "\n",
    "    # Uporabitev Prewitt jedra na sliki\n",
    "    img_x = cv2.filter2D(slika, -1, x, borderType=cv2.BORDER_REPLICATE)\n",
    "    img_y = cv2.filter2D(slika, -1, y, borderType=cv2.BORDER_REPLICATE)\n",
    "\n",
    "    # Izračun magnitude gradientov z uporabo L1 norme (absolutnih vrednosti)\n",
    "    slika_robov = cv2.addWeighted(np.abs(img_x), 0.5, np.abs(img_y), 0.5, 0).astype(np.uint8)\n",
    "\n",
    "    # Povečanje kontrasta robov\n",
    "    slika_robov = spremeni_kontrast(slika_robov, 10, 10)\n",
    "\n",
    "    return slika_robov"
   ]
  },
  {
   "attachments": {},
   "cell_type": "markdown",
   "metadata": {},
   "source": [
    "# SOBEL"
   ]
  },
  {
   "cell_type": "code",
   "execution_count": 241,
   "metadata": {},
   "outputs": [],
   "source": [
    "def my_sobel(slika):\n",
    "    # Definiranje Sobel jedra\n",
    "    sobel_x = np.array([[-1, 0, 1], [-2, 0, 2], [-1, 0, 1]], dtype=np.float32)\n",
    "    sobel_y = np.array([[-1, -2, -1], [0, 0, 0], [1, 2, 1]], dtype=np.float32)\n",
    "    \n",
    "    # Uporabitev Sobel jedra na sliki\n",
    "    img_x = cv2.filter2D(slika, -1, sobel_x, borderType=cv2.BORDER_REPLICATE)\n",
    "    img_y = cv2.filter2D(slika, -1, sobel_y, borderType=cv2.BORDER_REPLICATE)\n",
    "    \n",
    "    # Izračun magnitude gradientov z uporabo L1 norme (absolutnih vrednosti)    \n",
    "    slika_robov = cv2.addWeighted(np.abs(img_x), 0.5, np.abs(img_y), 0.5, 0).astype(np.uint8)\n",
    "\n",
    "    # Povečanje kontrasta robov\n",
    "    slika_robov = spremeni_kontrast(slika_robov, 10, 10)\n",
    "    \n",
    "    return slika_robov"
   ]
  },
  {
   "attachments": {},
   "cell_type": "markdown",
   "metadata": {},
   "source": [
    "# CANNY"
   ]
  },
  {
   "cell_type": "code",
   "execution_count": 242,
   "metadata": {},
   "outputs": [],
   "source": [
    "def canny(slika, sp_prag, zg_prag):\n",
    "    # Uporabitev Canny na sliki\n",
    "    slika_robov = cv2.Canny(slika, sp_prag, zg_prag)\n",
    "\n",
    "    return slika_robov"
   ]
  },
  {
   "attachments": {},
   "cell_type": "markdown",
   "metadata": {},
   "source": [
    "# KONTRAST"
   ]
  },
  {
   "cell_type": "code",
   "execution_count": 243,
   "metadata": {},
   "outputs": [],
   "source": [
    "def spremeni_kontrast(slika, alfa, beta): # alfa = kontrast, beta = svetloba\n",
    "    # Ničelna matrika enake velikosti kot vhodna slika\n",
    "    slika_kontrast = np.zeros_like(slika) \n",
    "    \n",
    "    # Prilagoditev kontrasta in svetlost slike\n",
    "    slika_kontrast = cv2.convertScaleAbs(slika, alpha=alfa, beta=beta)\n",
    "    \n",
    "    return slika_kontrast"
   ]
  },
  {
   "attachments": {},
   "cell_type": "markdown",
   "metadata": {},
   "source": [
    "# MAIN"
   ]
  },
  {
   "cell_type": "code",
   "execution_count": 244,
   "metadata": {},
   "outputs": [],
   "source": [
    "def main():\n",
    "    # Naložitev slike 'slika.jpg'\n",
    "    original_slika = cv2.imread('slika.png')\n",
    "    \n",
    "    # Pretvorba originalne slike v sivinsko sliko\n",
    "    siva_slika = cv2.cvtColor(original_slika, cv2.COLOR_BGR2GRAY)\n",
    "\n",
    "    # Uporabitev algoritmov Robets, Prewitt, Sobel in Canny za detekcijo robov    \n",
    "    roberts = my_roberts(siva_slika)\n",
    "    prewitt = my_prewitt(siva_slika)\n",
    "    sobel = my_sobel(siva_slika)\n",
    "    canny_ = canny(siva_slika, 100, 200)\n",
    "    \n",
    "    # Povečanje kontrasta sivinske slike\n",
    "    kontrast = spremeni_kontrast(siva_slika, 3, 2)\n",
    "\n",
    "    # Prikaz originalne slike\n",
    "    cv2.imshow('Original', original_slika)\n",
    "    # Prikaz obdelanih slik\n",
    "    cv2.imshow('Roberts', roberts)\n",
    "    cv2.imshow('Prewitt', prewitt)\n",
    "    cv2.imshow('Sobel', sobel)\n",
    "    cv2.imshow('Canny', canny_)\n",
    "    cv2.imshow('Kontrast', kontrast)\n",
    "\n",
    "    # Uporabitev Sobel algoritma za detekcijo robov na sivinski sliki\n",
    "    robovi = cv2.Sobel(siva_slika, cv2.CV_8U, 1, 0, ksize=3, borderType=cv2.BORDER_REPLICATE)\n",
    "    \n",
    "    # Pretvorba sivinske Sobel slike v barvno za prikazovanje\n",
    "    barva_robov = cv2.cvtColor(robovi, cv2.COLOR_GRAY2BGR)\n",
    "    \n",
    "    # Prekrivanje Sobel robov na originalni sliki\n",
    "    nova_slika = cv2.addWeighted(original_slika, 0.5, barva_robov, 0.5, 0)\n",
    "\n",
    "    # Prikaz originalne slike z dodanimi Sobel robovi\n",
    "    cv2.imshow(\"Robovi originalne slike\", nova_slika)\n",
    "\n",
    "    # Čakanje na pritisk tipke in zapiranje vseh oken\n",
    "    cv2.waitKey(0)\n",
    "    cv2.destroyAllWindows()\n",
    "\n",
    "\n",
    "main()\n"
   ]
  }
 ],
 "metadata": {
  "kernelspec": {
   "display_name": "opencv",
   "language": "python",
   "name": "python3"
  },
  "language_info": {
   "codemirror_mode": {
    "name": "ipython",
    "version": 3
   },
   "file_extension": ".py",
   "mimetype": "text/x-python",
   "name": "python",
   "nbconvert_exporter": "python",
   "pygments_lexer": "ipython3",
   "version": "3.10.10"
  },
  "orig_nbformat": 4
 },
 "nbformat": 4,
 "nbformat_minor": 2
}
